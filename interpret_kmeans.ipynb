{
 "cells": [
  {
   "cell_type": "markdown",
   "metadata": {},
   "source": [
    "# Question:\n",
    "julian asked:\n",
    "Is there a solution / answer code available for the week 5 additional exercise\n",
    "\n",
    "# Answer:\n",
    "The general plan in pseudo code was:\n",
    "\n",
    "for each cluster\n",
    "- grab all points in the cluster\n",
    "- plot the comparison between the cluster means vs. population means\n",
    "- look for insights"
   ]
  },
  {
   "cell_type": "code",
   "execution_count": 1,
   "metadata": {},
   "outputs": [
    {
     "name": "stdout",
     "output_type": "stream",
     "text": [
      "Cluster 0\n"
     ]
    },
    {
     "data": {
      "text/plain": [
       "<Figure size 640x480 with 1 Axes>"
      ]
     },
     "metadata": {},
     "output_type": "display_data"
    },
    {
     "name": "stdout",
     "output_type": "stream",
     "text": [
      "Cluster 1\n"
     ]
    },
    {
     "data": {
      "text/plain": [
       "<Figure size 640x480 with 1 Axes>"
      ]
     },
     "metadata": {},
     "output_type": "display_data"
    },
    {
     "name": "stdout",
     "output_type": "stream",
     "text": [
      "Cluster 2\n"
     ]
    },
    {
     "data": {
      "text/plain": [
       "<Figure size 640x480 with 1 Axes>"
      ]
     },
     "metadata": {},
     "output_type": "display_data"
    },
    {
     "name": "stdout",
     "output_type": "stream",
     "text": [
      "Cluster 3\n"
     ]
    },
    {
     "data": {
      "text/plain": [
       "<Figure size 640x480 with 1 Axes>"
      ]
     },
     "metadata": {},
     "output_type": "display_data"
    }
   ],
   "source": [
    "from sklearn.cluster import KMeans\n",
    "from sklearn.datasets import load_boston\n",
    "from sklearn.decomposition import PCA\n",
    "import matplotlib.pyplot as plt\n",
    "import numpy as np\n",
    "import seaborn as sns\n",
    "sns.set()\n",
    "\n",
    "\n",
    "def norm_data(X):\n",
    "    mu = X.mean(axis=0)\n",
    "    sd = X.std(axis=0)\n",
    "    X_norm = (X - mu) / sd\n",
    "\n",
    "    return X_norm\n",
    "\n",
    "\n",
    "def pca_transform(n, data, inv=False):\n",
    "    pca = PCA(n_components=n, random_state=0)\n",
    "    data_norm = norm_data(data)\n",
    "    Z = pca.fit_transform(data_norm)\n",
    "    if inv:\n",
    "        Z = pca.inverse_transform(Z)*data.std(axis=0) + data.mean(axis=0)\n",
    "\n",
    "    return Z\n",
    "\n",
    "\n",
    "def plot_PCs(n, data, y, km=False):\n",
    "\n",
    "    Z = pca_transform(n, data)\n",
    "\n",
    "    if km:\n",
    "        kmeans = KMeans(4)\n",
    "        kmeans.fit(Z)\n",
    "        cl = kmeans.labels_\n",
    "\n",
    "    # split data by MEDV > mean\n",
    "    gt = Z[y == 1]\n",
    "    lt = Z[y == 0]\n",
    "\n",
    "    # 3D K-Means\n",
    "    if km and n == 3:\n",
    "        ax = plt.subplot(projection='3d')\n",
    "        ax.scatter3D(Z[:, 0], Z[:, 1], Z[:, 2], c=cl,  cmap=\"Accent\")\n",
    "\n",
    "        ax = plt.gca()\n",
    "        ax.set_zlabel(\"3rd PC\")\n",
    "        plt.xlabel(\"1st PC\")\n",
    "        plt.ylabel(\"2nd PC\")\n",
    "\n",
    "    # 3D MEDV split\n",
    "    elif n == 3:\n",
    "        ax = plt.subplot(projection='3d')\n",
    "        ax.scatter3D(gt[:, 0], gt[:, 1], gt[:, 2], marker='+', cmap=\"Accent\",\n",
    "                     label=\"Greater than mean MEDV\")\n",
    "        ax.scatter3D(lt[:, 0], lt[:, 1], lt[:, 2], s=5, marker='o',\n",
    "                     cmap=\"Accent\", label=\"Less than mean MEDV\")\n",
    "\n",
    "        ax = plt.gca()\n",
    "        ax.set_zlabel(\"3rd PC\")\n",
    "        plt.xlabel(\"1st PC\")\n",
    "        plt.ylabel(\"2nd PC\")\n",
    "\n",
    "    # 2D K-Means\n",
    "    if km and n == 2:\n",
    "        plt.scatter(Z[:, 0], Z[:, 1], c=cl,  cmap=\"Accent\")\n",
    "\n",
    "        plt.xlabel(\"1st PC\")\n",
    "        plt.ylabel(\"2nd PC\")\n",
    "    # 2D MEDV split\n",
    "    elif n == 2:\n",
    "        plt.scatter(gt[:, 0], gt[:, 1],  marker='+', cmap=\"Accent\",\n",
    "                    label=\"Greater than mean MEDV\")\n",
    "        plt.scatter(lt[:, 0], lt[:, 1], s=5, marker='o', cmap=\"Accent\",\n",
    "                    label=\"Less than mean MEDV\")\n",
    "        plt.xlabel(\"1st PC\")\n",
    "        plt.ylabel(\"2nd PC\")\n",
    "\n",
    "    # 1D K-Means\n",
    "    if km and n == 1:\n",
    "        plt.scatter(Z[:, 0], [0]*Z.shape[0], s=5, c=cl, cmap=\"Accent\")\n",
    "\n",
    "        plt.xlabel(\"1st PC\")\n",
    "        plt.title(\"Boston Housing: PCA Reduced\")\n",
    "        ax = plt.gca()\n",
    "        ax.set(yticks=[])\n",
    "    # 1D MEDV split\n",
    "    elif n == 1:\n",
    "        plt.scatter(gt[:, 0], [0]*gt.shape[0], marker='+', cmap=\"Accent\",\n",
    "                    label=\"Greater than mean MEDV\")\n",
    "        plt.scatter(lt[:, 0], [0]*lt.shape[0], s=5, marker='o', cmap=\"Accent\",\n",
    "                    label=\"Less than mean MEDV\")\n",
    "\n",
    "        plt.xlabel(\"1st PC\")\n",
    "        plt.title(\"Boston Housing: PCA Reduced\")\n",
    "        ax = plt.gca()\n",
    "        ax.set(yticks=[])\n",
    "\n",
    "    if not km:\n",
    "        plt.legend()\n",
    "    if km:\n",
    "        plt.title(\"Boston Housing: PCA and K-Means\")\n",
    "    else:\n",
    "        plt.title(\"Boston Housing: PCA Reduced\")\n",
    "    plt.show()\n",
    "\n",
    "\n",
    "def plot_diff_means(d1, d2, labels):\n",
    "    fig, ax = plt.subplots()\n",
    "    bar_width = 0.35\n",
    "    opacity = 0.4\n",
    "    index = np.arange(d1.shape[1])\n",
    "    mean1 = d1.mean(axis=0)\n",
    "    mean2 = d2.mean(axis=0)\n",
    "    diff = 100*(mean1 - mean2) / mean2\n",
    "\n",
    "    ax.bar(index, diff, bar_width,\n",
    "           alpha=opacity, color='b',\n",
    "           label=\"% Difference\")\n",
    "\n",
    "    plt.xticks(index, labels, rotation=45)\n",
    "    plt.ylabel(\"Percentage\")\n",
    "    plt.title(\"Difference of Means for Of Interest and Original Data\")\n",
    "    plt.legend()\n",
    "\n",
    "    plt.show()\n",
    "\n",
    "\n",
    "\n",
    "data = load_boston().data\n",
    "target = load_boston().target\n",
    "y = np.zeros_like(target)\n",
    "y[target > target.mean()] = 1\n",
    "\n",
    "# cut our data down to 1D with 1st PC\n",
    "Z = pca_transform(1, data)\n",
    "# create 4 clusters for Z\n",
    "kmeans = KMeans(n_clusters=4, random_state=0).fit(Z)\n",
    "labels = kmeans.labels_\n",
    "\n",
    "for i in range(4):\n",
    "    # min and max value for each cluster\n",
    "    lower = Z[labels == i].min()\n",
    "    upper = Z[labels == i].max()\n",
    "\n",
    "    # grab the indices of Z corresponding to cluster i\n",
    "    ind = []\n",
    "    for u, v in enumerate(Z):\n",
    "        if v > lower and v < upper:\n",
    "            ind.append(u)\n",
    "\n",
    "    # transform our data from 1D --> 13D, which matches our original shape\n",
    "    Z_recovered = pca_transform(1, data, inv=True)\n",
    "\n",
    "    bar_labels = load_boston().feature_names\n",
    "    print(f\"Cluster {i}\")\n",
    "    plot_diff_means(Z_recovered[ind], data, bar_labels)"
   ]
  }
 ],
 "metadata": {
  "kernelspec": {
   "display_name": "Python 3",
   "language": "python",
   "name": "python3"
  },
  "language_info": {
   "codemirror_mode": {
    "name": "ipython",
    "version": 3
   },
   "file_extension": ".py",
   "mimetype": "text/x-python",
   "name": "python",
   "nbconvert_exporter": "python",
   "pygments_lexer": "ipython3",
   "version": "3.6.6"
  }
 },
 "nbformat": 4,
 "nbformat_minor": 2
}
